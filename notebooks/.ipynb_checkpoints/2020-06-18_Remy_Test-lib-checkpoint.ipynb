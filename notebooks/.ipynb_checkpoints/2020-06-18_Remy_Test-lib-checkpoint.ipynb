{
 "cells": [
  {
   "cell_type": "code",
   "execution_count": 1,
   "metadata": {},
   "outputs": [],
   "source": [
    "%load_ext autoreload\n",
    "%autoreload 2"
   ]
  },
  {
   "cell_type": "code",
   "execution_count": 2,
   "metadata": {},
   "outputs": [],
   "source": [
    "import os\n",
    "import sys\n",
    "sys.path.append('../lib')\n",
    "from utils import edf_loader, annotations_reader, combiner"
   ]
  },
  {
   "cell_type": "code",
   "execution_count": 3,
   "metadata": {},
   "outputs": [],
   "source": [
    "file1 = '../dataset/edf/train/01_tcp_ar/073/00007313/s001_2010_12_15/00007313_s001_t001.edf'\n",
    "file2 = '../dataset/edf/train/02_tcp_le/003/00000327/s003_2003_01_13/00000327_s003_t000.edf'\n",
    "file3 = '../dataset/edf/train/03_tcp_ar_a/009/00000975/s003_2004_10_19/00000975_s003_t000.edf'"
   ]
  },
  {
   "cell_type": "code",
   "execution_count": 4,
   "metadata": {},
   "outputs": [
    {
     "data": {
      "text/plain": [
       "'../dataset/edf/train/01_tcp_ar/073/00007313/s001_2010_12_15'"
      ]
     },
     "execution_count": 4,
     "metadata": {},
     "output_type": "execute_result"
    }
   ],
   "source": [
    "os.path.basename(file1)\n",
    "os.path.dirname(file1)"
   ]
  },
  {
   "cell_type": "markdown",
   "metadata": {},
   "source": [
    "# edf loader"
   ]
  },
  {
   "cell_type": "code",
   "execution_count": 5,
   "metadata": {},
   "outputs": [],
   "source": [
    "raw = edf_loader(file3, montage_type=3)"
   ]
  },
  {
   "cell_type": "code",
   "execution_count": 6,
   "metadata": {},
   "outputs": [
    {
     "data": {
      "text/plain": [
       "32"
      ]
     },
     "execution_count": 6,
     "metadata": {},
     "output_type": "execute_result"
    }
   ],
   "source": [
    "len(raw.ch_names)"
   ]
  },
  {
   "cell_type": "markdown",
   "metadata": {},
   "source": [
    "# annotations reader"
   ]
  },
  {
   "cell_type": "code",
   "execution_count": 7,
   "metadata": {},
   "outputs": [
    {
     "name": "stdout",
     "output_type": "stream",
     "text": [
      "['00007313_s001_t001.lbl', '00007313_s001_t001.lbl_bi', '00007313_s001_t001.tse', '00007313_s001_t001.tse_bi']\n"
     ]
    }
   ],
   "source": [
    "annot_dict = annotations_reader(file1, montage_type=1)"
   ]
  },
  {
   "cell_type": "code",
   "execution_count": 8,
   "metadata": {},
   "outputs": [
    {
     "data": {
      "text/plain": [
       "{'lbl': [[[0.0, 1167.0, OrderedDict([('bckg', 1.0)])]],\n",
       "  [[0.0, 1167.0, OrderedDict([('bckg', 1.0)])]],\n",
       "  [[0.0, 1167.0, OrderedDict([('bckg', 1.0)])]],\n",
       "  [[0.0, 1167.0, OrderedDict([('bckg', 1.0)])]],\n",
       "  [[0.0, 1167.0, OrderedDict([('bckg', 1.0)])]],\n",
       "  [[0.0, 1167.0, OrderedDict([('bckg', 1.0)])]],\n",
       "  [[0.0, 1167.0, OrderedDict([('bckg', 1.0)])]],\n",
       "  [[0.0, 1167.0, OrderedDict([('bckg', 1.0)])]],\n",
       "  [[0.0, 1167.0, OrderedDict([('bckg', 1.0)])]],\n",
       "  [[0.0, 1167.0, OrderedDict([('bckg', 1.0)])]],\n",
       "  [[0.0, 1167.0, OrderedDict([('bckg', 1.0)])]],\n",
       "  [[0.0, 1167.0, OrderedDict([('bckg', 1.0)])]],\n",
       "  [[0.0, 1167.0, OrderedDict([('bckg', 1.0)])]],\n",
       "  [[0.0, 1167.0, OrderedDict([('bckg', 1.0)])]],\n",
       "  [[0.0, 1167.0, OrderedDict([('bckg', 1.0)])]],\n",
       "  [[0.0, 1167.0, OrderedDict([('bckg', 1.0)])]],\n",
       "  [[0.0, 1167.0, OrderedDict([('bckg', 1.0)])]],\n",
       "  [[0.0, 1167.0, OrderedDict([('bckg', 1.0)])]],\n",
       "  [[0.0, 1167.0, OrderedDict([('bckg', 1.0)])]],\n",
       "  [[0.0, 1167.0, OrderedDict([('bckg', 1.0)])]],\n",
       "  [[0.0, 1167.0, OrderedDict([('bckg', 1.0)])]],\n",
       "  [[0.0, 1167.0, OrderedDict([('bckg', 1.0)])]]],\n",
       " 'lbl_bi': [[[0.0, 1167.0, OrderedDict([('bckg', 1.0)])]],\n",
       "  [[0.0, 1167.0, OrderedDict([('bckg', 1.0)])]],\n",
       "  [[0.0, 1167.0, OrderedDict([('bckg', 1.0)])]],\n",
       "  [[0.0, 1167.0, OrderedDict([('bckg', 1.0)])]],\n",
       "  [[0.0, 1167.0, OrderedDict([('bckg', 1.0)])]],\n",
       "  [[0.0, 1167.0, OrderedDict([('bckg', 1.0)])]],\n",
       "  [[0.0, 1167.0, OrderedDict([('bckg', 1.0)])]],\n",
       "  [[0.0, 1167.0, OrderedDict([('bckg', 1.0)])]],\n",
       "  [[0.0, 1167.0, OrderedDict([('bckg', 1.0)])]],\n",
       "  [[0.0, 1167.0, OrderedDict([('bckg', 1.0)])]],\n",
       "  [[0.0, 1167.0, OrderedDict([('bckg', 1.0)])]],\n",
       "  [[0.0, 1167.0, OrderedDict([('bckg', 1.0)])]],\n",
       "  [[0.0, 1167.0, OrderedDict([('bckg', 1.0)])]],\n",
       "  [[0.0, 1167.0, OrderedDict([('bckg', 1.0)])]],\n",
       "  [[0.0, 1167.0, OrderedDict([('bckg', 1.0)])]],\n",
       "  [[0.0, 1167.0, OrderedDict([('bckg', 1.0)])]],\n",
       "  [[0.0, 1167.0, OrderedDict([('bckg', 1.0)])]],\n",
       "  [[0.0, 1167.0, OrderedDict([('bckg', 1.0)])]],\n",
       "  [[0.0, 1167.0, OrderedDict([('bckg', 1.0)])]],\n",
       "  [[0.0, 1167.0, OrderedDict([('bckg', 1.0)])]],\n",
       "  [[0.0, 1167.0, OrderedDict([('bckg', 1.0)])]],\n",
       "  [[0.0, 1167.0, OrderedDict([('bckg', 1.0)])]]],\n",
       " 'tse': [[0.0, 1167.0, OrderedDict([('bckg', 1.0)])]],\n",
       " 'tse_bi': [[0.0, 1167.0, OrderedDict([('bckg', 1.0)])]]}"
      ]
     },
     "execution_count": 8,
     "metadata": {},
     "output_type": "execute_result"
    }
   ],
   "source": [
    "annot_dict"
   ]
  },
  {
   "cell_type": "markdown",
   "metadata": {},
   "source": [
    "# combiner"
   ]
  },
  {
   "cell_type": "code",
   "execution_count": 9,
   "metadata": {},
   "outputs": [],
   "source": [
    "raw = edf_loader(file1)\n",
    "montages, montages_names = combiner(raw, montage_type=1)"
   ]
  },
  {
   "cell_type": "code",
   "execution_count": 10,
   "metadata": {},
   "outputs": [
    {
     "data": {
      "text/plain": [
       "(233400,)"
      ]
     },
     "execution_count": 10,
     "metadata": {},
     "output_type": "execute_result"
    }
   ],
   "source": [
    "montages[0].shape"
   ]
  }
 ],
 "metadata": {
  "kernelspec": {
   "display_name": "Python 3",
   "language": "python",
   "name": "python3"
  },
  "language_info": {
   "codemirror_mode": {
    "name": "ipython",
    "version": 3
   },
   "file_extension": ".py",
   "mimetype": "text/x-python",
   "name": "python",
   "nbconvert_exporter": "python",
   "pygments_lexer": "ipython3",
   "version": "3.8.5"
  }
 },
 "nbformat": 4,
 "nbformat_minor": 4
}
