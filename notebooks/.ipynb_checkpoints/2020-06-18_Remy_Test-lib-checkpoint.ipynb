{
 "cells": [
  {
   "cell_type": "code",
   "execution_count": 1,
   "metadata": {},
   "outputs": [],
   "source": [
    "%load_ext autoreload\n",
    "%autoreload 2"
   ]
  },
  {
   "cell_type": "code",
   "execution_count": 5,
   "metadata": {},
   "outputs": [],
   "source": [
    "import os\n",
    "import sys\n",
    "sys.path.append('../lib')\n",
    "from loader import edf_loader, annotations_reader\n",
    "from combiner import combiner"
   ]
  },
  {
   "cell_type": "code",
   "execution_count": 17,
   "metadata": {},
   "outputs": [],
   "source": [
    "folder1 = '../dataset/edf/train/01_tcp_ar/073/00007313/s001_2010_12_15/'\n",
    "folder2 = '../dataset/edf/train/02_tcp_le/003/00000327/s003_2003_01_13/'\n",
    "folder3 = '../dataset/edf/train/02_tcp_le/003/00000327/s003_2003_01_13/'"
   ]
  },
  {
   "cell_type": "markdown",
   "metadata": {},
   "source": [
    "# edf loader"
   ]
  },
  {
   "cell_type": "code",
   "execution_count": 18,
   "metadata": {},
   "outputs": [
    {
     "name": "stdout",
     "output_type": "stream",
     "text": [
      "Extracting EDF parameters from /media/windows/Users/Remy/OneDrive/Documents/Polycoco/dataset/edf/train/02_tcp_le/003/00000327/s003_2003_01_13/00000327_s003_t000.edf...\n",
      "EDF file detected\n",
      "Setting channel info structure...\n",
      "Creating raw.info structure...\n",
      "Reading 0 ... 319999  =      0.000 ...  1279.996 secs...\n"
     ]
    }
   ],
   "source": [
    "raw = edf_loader(folder3)"
   ]
  },
  {
   "cell_type": "code",
   "execution_count": 19,
   "metadata": {},
   "outputs": [
    {
     "data": {
      "text/plain": [
       "33"
      ]
     },
     "execution_count": 19,
     "metadata": {},
     "output_type": "execute_result"
    }
   ],
   "source": [
    "len(raw.ch_names)"
   ]
  },
  {
   "cell_type": "markdown",
   "metadata": {},
   "source": [
    "# annotations reader"
   ]
  },
  {
   "cell_type": "code",
   "execution_count": 28,
   "metadata": {},
   "outputs": [],
   "source": [
    "annot_dict = annotations_reader(folder1, montage_type=1)"
   ]
  },
  {
   "cell_type": "code",
   "execution_count": 29,
   "metadata": {},
   "outputs": [
    {
     "data": {
      "text/plain": [
       "{'lbl': [[[0.0, 1167.0, OrderedDict([('bckg', 1.0)])]],\n",
       "  [[0.0, 1167.0, OrderedDict([('bckg', 1.0)])]],\n",
       "  [[0.0, 1167.0, OrderedDict([('bckg', 1.0)])]],\n",
       "  [[0.0, 1167.0, OrderedDict([('bckg', 1.0)])]],\n",
       "  [[0.0, 1167.0, OrderedDict([('bckg', 1.0)])]],\n",
       "  [[0.0, 1167.0, OrderedDict([('bckg', 1.0)])]],\n",
       "  [[0.0, 1167.0, OrderedDict([('bckg', 1.0)])]],\n",
       "  [[0.0, 1167.0, OrderedDict([('bckg', 1.0)])]],\n",
       "  [[0.0, 1167.0, OrderedDict([('bckg', 1.0)])]],\n",
       "  [[0.0, 1167.0, OrderedDict([('bckg', 1.0)])]],\n",
       "  [[0.0, 1167.0, OrderedDict([('bckg', 1.0)])]],\n",
       "  [[0.0, 1167.0, OrderedDict([('bckg', 1.0)])]],\n",
       "  [[0.0, 1167.0, OrderedDict([('bckg', 1.0)])]],\n",
       "  [[0.0, 1167.0, OrderedDict([('bckg', 1.0)])]],\n",
       "  [[0.0, 1167.0, OrderedDict([('bckg', 1.0)])]],\n",
       "  [[0.0, 1167.0, OrderedDict([('bckg', 1.0)])]],\n",
       "  [[0.0, 1167.0, OrderedDict([('bckg', 1.0)])]],\n",
       "  [[0.0, 1167.0, OrderedDict([('bckg', 1.0)])]],\n",
       "  [[0.0, 1167.0, OrderedDict([('bckg', 1.0)])]],\n",
       "  [[0.0, 1167.0, OrderedDict([('bckg', 1.0)])]],\n",
       "  [[0.0, 1167.0, OrderedDict([('bckg', 1.0)])]],\n",
       "  [[0.0, 1167.0, OrderedDict([('bckg', 1.0)])]]],\n",
       " 'lbl_bi': [[[0.0, 1167.0, OrderedDict([('bckg', 1.0)])]],\n",
       "  [[0.0, 1167.0, OrderedDict([('bckg', 1.0)])]],\n",
       "  [[0.0, 1167.0, OrderedDict([('bckg', 1.0)])]],\n",
       "  [[0.0, 1167.0, OrderedDict([('bckg', 1.0)])]],\n",
       "  [[0.0, 1167.0, OrderedDict([('bckg', 1.0)])]],\n",
       "  [[0.0, 1167.0, OrderedDict([('bckg', 1.0)])]],\n",
       "  [[0.0, 1167.0, OrderedDict([('bckg', 1.0)])]],\n",
       "  [[0.0, 1167.0, OrderedDict([('bckg', 1.0)])]],\n",
       "  [[0.0, 1167.0, OrderedDict([('bckg', 1.0)])]],\n",
       "  [[0.0, 1167.0, OrderedDict([('bckg', 1.0)])]],\n",
       "  [[0.0, 1167.0, OrderedDict([('bckg', 1.0)])]],\n",
       "  [[0.0, 1167.0, OrderedDict([('bckg', 1.0)])]],\n",
       "  [[0.0, 1167.0, OrderedDict([('bckg', 1.0)])]],\n",
       "  [[0.0, 1167.0, OrderedDict([('bckg', 1.0)])]],\n",
       "  [[0.0, 1167.0, OrderedDict([('bckg', 1.0)])]],\n",
       "  [[0.0, 1167.0, OrderedDict([('bckg', 1.0)])]],\n",
       "  [[0.0, 1167.0, OrderedDict([('bckg', 1.0)])]],\n",
       "  [[0.0, 1167.0, OrderedDict([('bckg', 1.0)])]],\n",
       "  [[0.0, 1167.0, OrderedDict([('bckg', 1.0)])]],\n",
       "  [[0.0, 1167.0, OrderedDict([('bckg', 1.0)])]],\n",
       "  [[0.0, 1167.0, OrderedDict([('bckg', 1.0)])]],\n",
       "  [[0.0, 1167.0, OrderedDict([('bckg', 1.0)])]]],\n",
       " 'tse': [[0.0, 1167.0, OrderedDict([('bckg', 1.0)])]],\n",
       " 'tse_bi': [[0.0, 1167.0, OrderedDict([('bckg', 1.0)])]]}"
      ]
     },
     "execution_count": 29,
     "metadata": {},
     "output_type": "execute_result"
    }
   ],
   "source": [
    "annot_dict"
   ]
  },
  {
   "cell_type": "markdown",
   "metadata": {},
   "source": [
    "# combiner"
   ]
  },
  {
   "cell_type": "code",
   "execution_count": 42,
   "metadata": {},
   "outputs": [
    {
     "name": "stdout",
     "output_type": "stream",
     "text": [
      "Extracting EDF parameters from /media/windows/Users/Remy/OneDrive/Documents/Polycoco/dataset/edf/train/01_tcp_ar/073/00007313/s001_2010_12_15/00007313_s001_t000.edf...\n",
      "EDF file detected\n",
      "Setting channel info structure...\n",
      "Creating raw.info structure...\n",
      "Reading 0 ... 9249  =      0.000 ...    36.996 secs...\n"
     ]
    }
   ],
   "source": [
    "raw = edf_loader(folder1)\n",
    "montages, montages_names = combiner(raw, montage_type=1)"
   ]
  },
  {
   "cell_type": "code",
   "execution_count": 45,
   "metadata": {},
   "outputs": [
    {
     "data": {
      "text/plain": [
       "(9250,)"
      ]
     },
     "execution_count": 45,
     "metadata": {},
     "output_type": "execute_result"
    }
   ],
   "source": [
    "montages[0].shape"
   ]
  }
 ],
 "metadata": {
  "kernelspec": {
   "display_name": "Python 3",
   "language": "python",
   "name": "python3"
  },
  "language_info": {
   "codemirror_mode": {
    "name": "ipython",
    "version": 3
   },
   "file_extension": ".py",
   "mimetype": "text/x-python",
   "name": "python",
   "nbconvert_exporter": "python",
   "pygments_lexer": "ipython3",
   "version": "3.6.9"
  }
 },
 "nbformat": 4,
 "nbformat_minor": 4
}
