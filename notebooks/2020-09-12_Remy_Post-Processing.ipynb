{
 "cells": [
  {
   "cell_type": "code",
   "execution_count": 1,
   "metadata": {},
   "outputs": [],
   "source": [
    "%load_ext autoreload\n",
    "%autoreload 2"
   ]
  },
  {
   "cell_type": "code",
   "execution_count": 2,
   "metadata": {},
   "outputs": [],
   "source": [
    "import os\n",
    "import numpy as np\n",
    "import pandas as pd\n",
    "import joblib\n",
    "import sys\n",
    "sys.path.append('../lib')\n",
    "from utils import edf_loader, combiner, annotations_reader, find_breakpoints, find_sections,\\\n",
    "                    section_seiz, find_edf\n",
    "from transformers import SpectrogramTransformer\n",
    "from models import Baseline, PostProcessing\n",
    "import time"
   ]
  },
  {
   "cell_type": "code",
   "execution_count": 3,
   "metadata": {},
   "outputs": [],
   "source": [
    "folders1 = find_edf('../dataset/edf/train/01_tcp_ar/')\n",
    "# folders2 = find_edf('../dataset/edf/train/02_tcp_le/')\n",
    "# folders3 = find_edf('../dataset/edf/train/03_tcp_ar_a/')\n",
    "# folders = [folders1, folders2, folders3]"
   ]
  },
  {
   "cell_type": "markdown",
   "metadata": {},
   "source": [
    "# Test Baseline class"
   ]
  },
  {
   "cell_type": "code",
   "execution_count": 4,
   "metadata": {},
   "outputs": [],
   "source": [
    "id_folder = 0\n",
    "folder = folders1[id_folder]\n",
    "basename = os.path.splitext(os.path.basename(folder))[0]\n",
    "raw = edf_loader(folder)\n",
    "raw.info['montage_type'] = 3\n",
    "tmax = raw.n_times/raw.info['sfreq']\n",
    "wd = 8\n",
    "S = SpectrogramTransformer(win_duration=wd)\n",
    "t, f, spectrograms_db_list = S.fit_transform(raw)"
   ]
  },
  {
   "cell_type": "code",
   "execution_count": 5,
   "metadata": {},
   "outputs": [
    {
     "name": "stdout",
     "output_type": "stream",
     "text": [
      "CPU times: user 964 ms, sys: 30.6 ms, total: 994 ms\n",
      "Wall time: 994 ms\n"
     ]
    }
   ],
   "source": [
    "%%time\n",
    "B = Baseline(wd)\n",
    "B.fit(t, f, spectrograms_db_list)\n",
    "t, predictions = B.predict()\n",
    "deltaT = t[1] - t[0]"
   ]
  },
  {
   "cell_type": "code",
   "execution_count": 6,
   "metadata": {},
   "outputs": [],
   "source": [
    "predictions = np.array([1,0,1,1,1,0,0,0,1,1,1,1,1,0,0,0,0,0,1,1,1,1,1,0,0]).astype(bool)"
   ]
  },
  {
   "cell_type": "markdown",
   "metadata": {},
   "source": [
    "# Post-Processing"
   ]
  },
  {
   "cell_type": "markdown",
   "metadata": {},
   "source": [
    "## Remove isolated predictions"
   ]
  },
  {
   "cell_type": "code",
   "execution_count": 7,
   "metadata": {},
   "outputs": [],
   "source": [
    "minimum_seizure_duration = 15"
   ]
  },
  {
   "cell_type": "code",
   "execution_count": 8,
   "metadata": {},
   "outputs": [],
   "source": [
    "# Labellization of each event\n",
    "D = np.diff(np.insert(predictions,0,False))\n",
    "events_ids = np.cumsum(D)\n",
    "events_ids = events_ids - min(events_ids)\n",
    "labels = np.unique(events_ids)"
   ]
  },
  {
   "cell_type": "code",
   "execution_count": 9,
   "metadata": {},
   "outputs": [],
   "source": [
    "# Compute duration of events\n",
    "events_sizes,_ = np.histogram(events_ids,bins=len(labels))\n",
    "events_durations = events_sizes*deltaT"
   ]
  },
  {
   "cell_type": "code",
   "execution_count": 10,
   "metadata": {},
   "outputs": [],
   "source": [
    "# Correct predictions\n",
    "new_predictions = predictions[:]\n",
    "for lab in labels:\n",
    "    if events_durations[lab] < minimum_seizure_duration:\n",
    "        new_predictions[events_ids==lab] = False"
   ]
  },
  {
   "cell_type": "code",
   "execution_count": 11,
   "metadata": {},
   "outputs": [
    {
     "data": {
      "text/plain": [
       "array([False, False,  True,  True,  True, False, False, False,  True,\n",
       "        True,  True,  True,  True, False, False, False, False, False,\n",
       "        True,  True,  True,  True,  True, False, False])"
      ]
     },
     "execution_count": 11,
     "metadata": {},
     "output_type": "execute_result"
    }
   ],
   "source": [
    "new_predictions"
   ]
  },
  {
   "cell_type": "markdown",
   "metadata": {},
   "source": [
    "## Merge close predictions"
   ]
  },
  {
   "cell_type": "code",
   "execution_count": 12,
   "metadata": {},
   "outputs": [],
   "source": [
    "minimum_interseizure_gap = 30"
   ]
  },
  {
   "cell_type": "code",
   "execution_count": 13,
   "metadata": {},
   "outputs": [],
   "source": [
    "# Labellization of each seizure event\n",
    "D = np.diff(np.insert(new_predictions,0,False))\n",
    "events_ids = np.cumsum(D)\n",
    "events_ids = events_ids - min(events_ids)\n",
    "labels = np.unique(events_ids)"
   ]
  },
  {
   "cell_type": "code",
   "execution_count": 14,
   "metadata": {},
   "outputs": [],
   "source": [
    "# Compute duration of events\n",
    "events_sizes,_ = np.histogram(events_ids,bins=len(labels))\n",
    "events_durations = events_sizes*deltaT"
   ]
  },
  {
   "cell_type": "code",
   "execution_count": 15,
   "metadata": {},
   "outputs": [],
   "source": [
    "# Correct predictions\n",
    "for lab in labels[1:-1]:\n",
    "    if events_durations[lab] < minimum_interseizure_gap:\n",
    "        new_predictions[events_ids==lab] = True"
   ]
  },
  {
   "cell_type": "code",
   "execution_count": 16,
   "metadata": {},
   "outputs": [
    {
     "data": {
      "text/plain": [
       "array([False, False,  True,  True,  True,  True,  True,  True,  True,\n",
       "        True,  True,  True,  True, False, False, False, False, False,\n",
       "        True,  True,  True,  True,  True, False, False])"
      ]
     },
     "execution_count": 16,
     "metadata": {},
     "output_type": "execute_result"
    }
   ],
   "source": [
    "new_predictions"
   ]
  },
  {
   "cell_type": "markdown",
   "metadata": {},
   "source": [
    "# Test lib"
   ]
  },
  {
   "cell_type": "code",
   "execution_count": 17,
   "metadata": {},
   "outputs": [],
   "source": [
    "P = PostProcessing()\n",
    "P.fit(t, predictions)"
   ]
  },
  {
   "cell_type": "code",
   "execution_count": 18,
   "metadata": {},
   "outputs": [],
   "source": [
    "new_pred = P.predict()"
   ]
  },
  {
   "cell_type": "code",
   "execution_count": 19,
   "metadata": {},
   "outputs": [
    {
     "data": {
      "text/plain": [
       "array([False, False,  True,  True,  True,  True,  True,  True,  True,\n",
       "        True,  True,  True,  True, False, False, False, False, False,\n",
       "        True,  True,  True,  True,  True, False, False])"
      ]
     },
     "execution_count": 19,
     "metadata": {},
     "output_type": "execute_result"
    }
   ],
   "source": [
    "new_pred"
   ]
  },
  {
   "cell_type": "code",
   "execution_count": null,
   "metadata": {},
   "outputs": [],
   "source": []
  }
 ],
 "metadata": {
  "kernelspec": {
   "display_name": "Python 3",
   "language": "python",
   "name": "python3"
  },
  "language_info": {
   "codemirror_mode": {
    "name": "ipython",
    "version": 3
   },
   "file_extension": ".py",
   "mimetype": "text/x-python",
   "name": "python",
   "nbconvert_exporter": "python",
   "pygments_lexer": "ipython3",
   "version": "3.8.5"
  }
 },
 "nbformat": 4,
 "nbformat_minor": 4
}
