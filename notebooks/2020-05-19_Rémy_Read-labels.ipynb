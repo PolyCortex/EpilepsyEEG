{
 "cells": [
  {
   "cell_type": "code",
   "execution_count": 1,
   "metadata": {},
   "outputs": [],
   "source": [
    "%load_ext autoreload\n",
    "%autoreload 2"
   ]
  },
  {
   "cell_type": "code",
   "execution_count": 2,
   "metadata": {
    "scrolled": true
   },
   "outputs": [],
   "source": [
    "import os\n",
    "import pandas as pd\n",
    "import numpy as np\n",
    "import mne"
   ]
  },
  {
   "cell_type": "markdown",
   "metadata": {},
   "source": [
    "# Load Annotations"
   ]
  },
  {
   "cell_type": "code",
   "execution_count": 3,
   "metadata": {},
   "outputs": [],
   "source": [
    "import sys\n",
    "sys.path.append('../read_labels/v1.0.0/src')\n",
    "import sys_tools.nedc_cmdl_parser as ncp\n",
    "import sys_tools.nedc_file_tools as nft\n",
    "import sys_tools.nedc_ann_tools as nat"
   ]
  },
  {
   "cell_type": "markdown",
   "metadata": {},
   "source": [
    "## .tse_bi"
   ]
  },
  {
   "cell_type": "code",
   "execution_count": 4,
   "metadata": {},
   "outputs": [],
   "source": [
    "filepath = '../dataset/edf/train/01_tcp_ar/077/00007793/s001_2011_05_27/00007793_s001_t001.tse_bi'\n",
    "ann = nat.Annotations()\n",
    "status = ann.load(nft.get_fullpath(filepath))\n",
    "annotations = ann.get(level_a=0, sublevel_a=0)"
   ]
  },
  {
   "cell_type": "code",
   "execution_count": 5,
   "metadata": {},
   "outputs": [
    {
     "data": {
      "text/plain": [
       "[[0.0, 19.84, OrderedDict([('bckg', 1.0)])],\n",
       " [19.84, 97.252, OrderedDict([('seiz', 1.0)])],\n",
       " [97.252, 413.044, OrderedDict([('bckg', 1.0)])],\n",
       " [413.044, 475.336, OrderedDict([('seiz', 1.0)])],\n",
       " [475.336, 511.904, OrderedDict([('bckg', 1.0)])],\n",
       " [511.904, 631.852, OrderedDict([('seiz', 1.0)])],\n",
       " [631.852, 700.952, OrderedDict([('bckg', 1.0)])],\n",
       " [700.952, 760.136, OrderedDict([('seiz', 1.0)])],\n",
       " [760.136, 851.992, OrderedDict([('bckg', 1.0)])],\n",
       " [851.992, 909.012, OrderedDict([('seiz', 1.0)])],\n",
       " [909.012, 1371.0, OrderedDict([('bckg', 1.0)])]]"
      ]
     },
     "execution_count": 5,
     "metadata": {},
     "output_type": "execute_result"
    }
   ],
   "source": [
    "annotations"
   ]
  },
  {
   "cell_type": "markdown",
   "metadata": {},
   "source": [
    "## .lbl_bi"
   ]
  },
  {
   "cell_type": "code",
   "execution_count": 6,
   "metadata": {},
   "outputs": [],
   "source": [
    "filepath = '../dataset/edf/train/01_tcp_ar/077/00007793/s001_2011_05_27/00007793_s001_t001.lbl_bi' # See channel 4\n",
    "ann = nat.Annotations()\n",
    "status = ann.load(nft.get_fullpath(filepath))\n",
    "annotations = ann.get(0,0,3)"
   ]
  },
  {
   "cell_type": "code",
   "execution_count": 7,
   "metadata": {},
   "outputs": [
    {
     "data": {
      "text/plain": [
       "[[0.0, 1371.0, OrderedDict([('bckg', 1.0)])]]"
      ]
     },
     "execution_count": 7,
     "metadata": {},
     "output_type": "execute_result"
    }
   ],
   "source": [
    "annotations"
   ]
  },
  {
   "cell_type": "markdown",
   "metadata": {},
   "source": [
    "## .tse"
   ]
  },
  {
   "cell_type": "code",
   "execution_count": 8,
   "metadata": {},
   "outputs": [],
   "source": [
    "filepath = '../dataset/edf/train/01_tcp_ar/077/00007793/s001_2011_05_27/00007793_s001_t001.tse'\n",
    "ann = nat.Annotations()\n",
    "status = ann.load(nft.get_fullpath(filepath))\n",
    "annotations = ann.get(level_a=0, sublevel_a=0)"
   ]
  },
  {
   "cell_type": "code",
   "execution_count": 9,
   "metadata": {},
   "outputs": [
    {
     "data": {
      "text/plain": [
       "[[0.0, 19.84, OrderedDict([('bckg', 1.0)])],\n",
       " [19.84, 97.252, OrderedDict([('fnsz', 1.0)])],\n",
       " [97.252, 413.044, OrderedDict([('bckg', 1.0)])],\n",
       " [413.044, 475.336, OrderedDict([('fnsz', 1.0)])],\n",
       " [475.336, 511.904, OrderedDict([('bckg', 1.0)])],\n",
       " [511.904, 631.852, OrderedDict([('fnsz', 1.0)])],\n",
       " [631.852, 700.952, OrderedDict([('bckg', 1.0)])],\n",
       " [700.952, 760.136, OrderedDict([('fnsz', 1.0)])],\n",
       " [760.136, 851.992, OrderedDict([('bckg', 1.0)])],\n",
       " [851.992, 909.012, OrderedDict([('fnsz', 1.0)])],\n",
       " [909.012, 1371.0, OrderedDict([('bckg', 1.0)])]]"
      ]
     },
     "execution_count": 9,
     "metadata": {},
     "output_type": "execute_result"
    }
   ],
   "source": [
    "annotations"
   ]
  },
  {
   "cell_type": "markdown",
   "metadata": {},
   "source": [
    "## .lbl"
   ]
  },
  {
   "cell_type": "code",
   "execution_count": 10,
   "metadata": {},
   "outputs": [],
   "source": [
    "filepath = '../dataset/edf/train/01_tcp_ar/077/00007793/s001_2011_05_27/00007793_s001_t001.lbl' # See channel 4\n",
    "ann = nat.Annotations()\n",
    "status = ann.load(nft.get_fullpath(filepath))\n",
    "annotations = ann.get(0,0,4)"
   ]
  },
  {
   "cell_type": "code",
   "execution_count": 11,
   "metadata": {},
   "outputs": [
    {
     "data": {
      "text/plain": [
       "[[0.0, 19.84, OrderedDict([('bckg', 1.0)])],\n",
       " [19.84, 97.252, OrderedDict([('fnsz', 1.0)])],\n",
       " [97.252, 851.992, OrderedDict([('bckg', 1.0)])],\n",
       " [851.992, 909.012, OrderedDict([('fnsz', 1.0)])],\n",
       " [909.012, 1371.0, OrderedDict([('bckg', 1.0)])]]"
      ]
     },
     "execution_count": 11,
     "metadata": {},
     "output_type": "execute_result"
    }
   ],
   "source": [
    "annotations"
   ]
  },
  {
   "cell_type": "code",
   "execution_count": 12,
   "metadata": {},
   "outputs": [
    {
     "data": {
      "text/plain": [
       "[0.0, 19.84, OrderedDict([('bckg', 1.0)])]"
      ]
     },
     "execution_count": 12,
     "metadata": {},
     "output_type": "execute_result"
    }
   ],
   "source": [
    "annotations[0]"
   ]
  },
  {
   "cell_type": "code",
   "execution_count": 13,
   "metadata": {},
   "outputs": [
    {
     "data": {
      "text/plain": [
       "1"
      ]
     },
     "execution_count": 13,
     "metadata": {},
     "output_type": "execute_result"
    }
   ],
   "source": [
    "len(annotations[0][2])"
   ]
  },
  {
   "cell_type": "code",
   "execution_count": 14,
   "metadata": {},
   "outputs": [
    {
     "data": {
      "text/plain": [
       "True"
      ]
     },
     "execution_count": 14,
     "metadata": {},
     "output_type": "execute_result"
    }
   ],
   "source": [
    "'bckg' in annotations[0][2].keys()"
   ]
  },
  {
   "cell_type": "markdown",
   "metadata": {},
   "source": [
    "# Import annotations in MNE objects"
   ]
  },
  {
   "cell_type": "markdown",
   "metadata": {},
   "source": [
    "## Create annotations"
   ]
  },
  {
   "cell_type": "code",
   "execution_count": 15,
   "metadata": {},
   "outputs": [],
   "source": [
    "# Load annotations\n",
    "filepath = '../dataset/edf/train/01_tcp_ar/077/00007793/s001_2011_05_27/00007793_s001_t001.tse_bi'\n",
    "ann = nat.Annotations()\n",
    "status = ann.load(nft.get_fullpath(filepath))\n",
    "annotations = ann.get(level_a=0, sublevel_a=0)\n",
    "\n",
    "# Create mne.Annotations object\n",
    "onset = []\n",
    "duration = []\n",
    "description = []\n",
    "for annotation in annotations:\n",
    "    if 'seiz' in annotation[2].keys():\n",
    "        onset.append(annotation[0])\n",
    "        duration.append(annotation[1] - annotation[0])\n",
    "        description.append('seiz')\n",
    "my_annot = mne.Annotations(onset=onset,\n",
    "                           duration=duration,\n",
    "                           description=description)"
   ]
  },
  {
   "cell_type": "markdown",
   "metadata": {},
   "source": [
    "## Add annotations"
   ]
  },
  {
   "cell_type": "code",
   "execution_count": 16,
   "metadata": {},
   "outputs": [
    {
     "name": "stdout",
     "output_type": "stream",
     "text": [
      "Extracting EDF parameters from /media/windows/Users/Remy/OneDrive/Documents/Polycoco/dataset/edf/train/01_tcp_ar/077/00007793/s001_2011_05_27/00007793_s001_t001.edf...\n",
      "EDF file detected\n",
      "Setting channel info structure...\n",
      "Creating raw.info structure...\n",
      "Reading 0 ... 342749  =      0.000 ...  1370.996 secs...\n"
     ]
    },
    {
     "data": {
      "text/plain": [
       "<RawEDF | 00007793_s001_t001.edf, 36 x 342750 (1371.0 s), ~94.2 MB, data loaded>"
      ]
     },
     "execution_count": 16,
     "metadata": {},
     "output_type": "execute_result"
    }
   ],
   "source": [
    "filepath = '../dataset/edf/train/01_tcp_ar/077/00007793/s001_2011_05_27/00007793_s001_t001.edf'\n",
    "raw = mne.io.read_raw_edf(filepath)\n",
    "raw.load_data()"
   ]
  },
  {
   "cell_type": "code",
   "execution_count": 17,
   "metadata": {},
   "outputs": [
    {
     "data": {
      "image/png": "[encoded data removed]",
      "text/plain": [
       "<Figure size 432x288 with 4 Axes>"
      ]
     },
     "metadata": {},
     "output_type": "display_data"
    }
   ],
   "source": [
    "raw.plot(start=400, duration=250, n_channels=3);"
   ]
  },
  {
   "cell_type": "code",
   "execution_count": 18,
   "metadata": {},
   "outputs": [
    {
     "data": {
      "image/png": "[encoded data removed]",
      "text/plain": [
       "<Figure size 432x288 with 4 Axes>"
      ]
     },
     "metadata": {},
     "output_type": "display_data"
    },
    {
     "data": {
      "image/png": "[encoded data removed]",
      "text/plain": [
       "<Figure size 432x288 with 4 Axes>"
      ]
     },
     "execution_count": 18,
     "metadata": {},
     "output_type": "execute_result"
    }
   ],
   "source": [
    "raw.set_annotations(my_annot)\n",
    "raw.plot(start=400, duration=250, n_channels=3)"
   ]
  }
 ],
 "metadata": {
  "kernelspec": {
   "display_name": "Python 3",
   "language": "python",
   "name": "python3"
  },
  "language_info": {
   "codemirror_mode": {
    "name": "ipython",
    "version": 3
   },
   "file_extension": ".py",
   "mimetype": "text/x-python",
   "name": "python",
   "nbconvert_exporter": "python",
   "pygments_lexer": "ipython3",
   "version": "3.8.5"
  }
 },
 "nbformat": 4,
 "nbformat_minor": 4
}
