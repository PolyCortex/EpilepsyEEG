{
 "cells": [
  {
   "cell_type": "code",
   "execution_count": 68,
   "metadata": {},
   "outputs": [],
   "source": [
    "import os\n",
    "import numpy as np\n",
    "import pandas as pd\n",
    "import mne\n",
    "from mne.minimum_norm import apply_inverse\n",
    "import matplotlib.pyplot as plt"
   ]
  },
  {
   "cell_type": "markdown",
   "metadata": {},
   "source": [
    "# Load file"
   ]
  },
  {
   "cell_type": "code",
   "execution_count": 2,
   "metadata": {},
   "outputs": [],
   "source": [
    "filepath = '../dataset/edf/train/01_tcp_ar/000/00000077/s003_2010_01_21/00000077_s003_t000.edf'\n",
    "# filepath = '../dataset/edf/train/02_tcp_le/003/00000302/s001_2003_09_24/00000302_s001_t000.edf'\n",
    "# filepath = '../dataset/edf/train/03_tcp_ar_a/000/00000006/s004_2007_02_02/00000006_s004_t000.edf'"
   ]
  },
  {
   "cell_type": "code",
   "execution_count": 3,
   "metadata": {},
   "outputs": [
    {
     "name": "stdout",
     "output_type": "stream",
     "text": [
      "Extracting EDF parameters from /media/windows/Users/Remy/OneDrive/Documents/Polycoco/dataset/edf/train/01_tcp_ar/000/00000077/s003_2010_01_21/00000077_s003_t000.edf...\n",
      "EDF file detected\n",
      "Setting channel info structure...\n",
      "Creating raw.info structure...\n",
      "Reading 0 ... 301249  =      0.000 ...  1204.996 secs...\n"
     ]
    },
    {
     "data": {
      "text/plain": [
       "<RawEDF | 00000077_s003_t000.edf, 36 x 301250 (1205.0 s), ~82.8 MB, data loaded>"
      ]
     },
     "execution_count": 3,
     "metadata": {},
     "output_type": "execute_result"
    }
   ],
   "source": [
    "raw = mne.io.read_raw_edf(filepath)\n",
    "raw.load_data()"
   ]
  },
  {
   "cell_type": "code",
   "execution_count": 4,
   "metadata": {
    "scrolled": true
   },
   "outputs": [
    {
     "data": {
      "text/plain": [
       "36"
      ]
     },
     "execution_count": 4,
     "metadata": {},
     "output_type": "execute_result"
    }
   ],
   "source": [
    "len(raw.ch_names)"
   ]
  },
  {
   "cell_type": "code",
   "execution_count": 5,
   "metadata": {
    "scrolled": true
   },
   "outputs": [
    {
     "data": {
      "text/plain": [
       "['EEG FP1-REF',\n",
       " 'EEG FP2-REF',\n",
       " 'EEG F3-REF',\n",
       " 'EEG F4-REF',\n",
       " 'EEG C3-REF',\n",
       " 'EEG C4-REF',\n",
       " 'EEG P3-REF',\n",
       " 'EEG P4-REF',\n",
       " 'EEG O1-REF',\n",
       " 'EEG O2-REF',\n",
       " 'EEG F7-REF',\n",
       " 'EEG F8-REF',\n",
       " 'EEG T3-REF',\n",
       " 'EEG T4-REF',\n",
       " 'EEG T5-REF',\n",
       " 'EEG T6-REF',\n",
       " 'EEG A1-REF',\n",
       " 'EEG A2-REF',\n",
       " 'EEG FZ-REF',\n",
       " 'EEG CZ-REF',\n",
       " 'EEG PZ-REF',\n",
       " 'EEG ROC-REF',\n",
       " 'EEG LOC-REF',\n",
       " 'EEG EKG1-REF',\n",
       " 'EMG-REF',\n",
       " 'EEG 26-REF',\n",
       " 'EEG 27-REF',\n",
       " 'EEG 28-REF',\n",
       " 'EEG 29-REF',\n",
       " 'EEG 30-REF',\n",
       " 'EEG T1-REF',\n",
       " 'EEG T2-REF',\n",
       " 'PHOTIC-REF',\n",
       " 'IBI',\n",
       " 'BURSTS',\n",
       " 'SUPPR']"
      ]
     },
     "execution_count": 5,
     "metadata": {},
     "output_type": "execute_result"
    }
   ],
   "source": [
    "raw.ch_names"
   ]
  },
  {
   "cell_type": "markdown",
   "metadata": {},
   "source": [
    "# Visualize montage"
   ]
  },
  {
   "cell_type": "markdown",
   "metadata": {},
   "source": [
    "### Read coordinates"
   ]
  },
  {
   "cell_type": "code",
   "execution_count": 13,
   "metadata": {},
   "outputs": [],
   "source": [
    "df_coord = pd.read_csv('../dataset/_DOCS/montage_coordinates', sep=' ', header=None)\n",
    "df_coord.columns = ['X','Y','Z']\n",
    "df_names = pd.read_csv('../dataset/_DOCS/montage_names', sep=' ', header=None)\n",
    "df_names.columns = ['ch_id']\n",
    "ch_names = []\n",
    "for i, id in enumerate(df_names['ch_id'],1):\n",
    "    for name in raw.ch_names:\n",
    "        if ' '+id in name:\n",
    "            ch_names.append(name)\n",
    "            break\n",
    "df_names['ch_name'] = ch_names\n",
    "df = pd.concat([df_names, df_coord], axis=1)"
   ]
  },
  {
   "cell_type": "markdown",
   "metadata": {},
   "source": [
    "### Plot"
   ]
  },
  {
   "cell_type": "code",
   "execution_count": 14,
   "metadata": {},
   "outputs": [
    {
     "data": {
      "image/png": "[encoded data removed]",
      "text/plain": [
       "<Figure size 360x360 with 1 Axes>"
      ]
     },
     "metadata": {
      "needs_background": "light"
     },
     "output_type": "display_data"
    }
   ],
   "source": [
    "df.plot('X','Y',kind='scatter',figsize=(5,5))\n",
    "for i, ch_name in enumerate(df['ch_id']):\n",
    "    plt.text(df['X'][i], df['Y'][i], ch_name)"
   ]
  },
  {
   "cell_type": "markdown",
   "metadata": {},
   "source": [
    "### Export"
   ]
  },
  {
   "cell_type": "code",
   "execution_count": 15,
   "metadata": {},
   "outputs": [],
   "source": [
    "df.to_csv('montage_coordinates.csv', sep=';',index=False)"
   ]
  },
  {
   "cell_type": "markdown",
   "metadata": {},
   "source": [
    "# Set montage on MNE object"
   ]
  },
  {
   "cell_type": "code",
   "execution_count": 16,
   "metadata": {},
   "outputs": [],
   "source": [
    "df = pd.read_csv('montage_coordinates.csv', sep=';')"
   ]
  },
  {
   "cell_type": "code",
   "execution_count": 17,
   "metadata": {
    "scrolled": true
   },
   "outputs": [
    {
     "data": {
      "text/html": [
       "<div>\n",
       "<style scoped>\n",
       "    .dataframe tbody tr th:only-of-type {\n",
       "        vertical-align: middle;\n",
       "    }\n",
       "\n",
       "    .dataframe tbody tr th {\n",
       "        vertical-align: top;\n",
       "    }\n",
       "\n",
       "    .dataframe thead th {\n",
       "        text-align: right;\n",
       "    }\n",
       "</style>\n",
       "<table border=\"1\" class=\"dataframe\">\n",
       "  <thead>\n",
       "    <tr style=\"text-align: right;\">\n",
       "      <th></th>\n",
       "      <th>ch_id</th>\n",
       "      <th>ch_name</th>\n",
       "      <th>X</th>\n",
       "      <th>Y</th>\n",
       "      <th>Z</th>\n",
       "    </tr>\n",
       "  </thead>\n",
       "  <tbody>\n",
       "    <tr>\n",
       "      <td>0</td>\n",
       "      <td>FP1</td>\n",
       "      <td>EEG FP1-REF</td>\n",
       "      <td>-29.4367</td>\n",
       "      <td>83.9171</td>\n",
       "      <td>-6.990</td>\n",
       "    </tr>\n",
       "    <tr>\n",
       "      <td>1</td>\n",
       "      <td>FP2</td>\n",
       "      <td>EEG FP2-REF</td>\n",
       "      <td>29.8723</td>\n",
       "      <td>84.8959</td>\n",
       "      <td>-7.080</td>\n",
       "    </tr>\n",
       "    <tr>\n",
       "      <td>2</td>\n",
       "      <td>F7</td>\n",
       "      <td>EEG F7-REF</td>\n",
       "      <td>-70.2629</td>\n",
       "      <td>42.4743</td>\n",
       "      <td>-11.420</td>\n",
       "    </tr>\n",
       "    <tr>\n",
       "      <td>3</td>\n",
       "      <td>F3</td>\n",
       "      <td>EEG F3-REF</td>\n",
       "      <td>-50.2438</td>\n",
       "      <td>53.1112</td>\n",
       "      <td>42.192</td>\n",
       "    </tr>\n",
       "    <tr>\n",
       "      <td>4</td>\n",
       "      <td>F4</td>\n",
       "      <td>EEG F4-REF</td>\n",
       "      <td>51.8362</td>\n",
       "      <td>54.3048</td>\n",
       "      <td>40.814</td>\n",
       "    </tr>\n",
       "    <tr>\n",
       "      <td>5</td>\n",
       "      <td>F8</td>\n",
       "      <td>EEG F8-REF</td>\n",
       "      <td>73.0431</td>\n",
       "      <td>44.4217</td>\n",
       "      <td>-12.000</td>\n",
       "    </tr>\n",
       "    <tr>\n",
       "      <td>6</td>\n",
       "      <td>C3</td>\n",
       "      <td>EEG C3-REF</td>\n",
       "      <td>-65.3581</td>\n",
       "      <td>-11.6317</td>\n",
       "      <td>64.358</td>\n",
       "    </tr>\n",
       "    <tr>\n",
       "      <td>7</td>\n",
       "      <td>CZ</td>\n",
       "      <td>EEG CZ-REF</td>\n",
       "      <td>0.4009</td>\n",
       "      <td>-9.1670</td>\n",
       "      <td>100.244</td>\n",
       "    </tr>\n",
       "    <tr>\n",
       "      <td>8</td>\n",
       "      <td>C4</td>\n",
       "      <td>EEG C4-REF</td>\n",
       "      <td>67.1179</td>\n",
       "      <td>-10.9003</td>\n",
       "      <td>63.580</td>\n",
       "    </tr>\n",
       "    <tr>\n",
       "      <td>9</td>\n",
       "      <td>P3</td>\n",
       "      <td>EEG P3-REF</td>\n",
       "      <td>-53.0073</td>\n",
       "      <td>-78.7878</td>\n",
       "      <td>55.940</td>\n",
       "    </tr>\n",
       "    <tr>\n",
       "      <td>10</td>\n",
       "      <td>P4</td>\n",
       "      <td>EEG P4-REF</td>\n",
       "      <td>55.6667</td>\n",
       "      <td>-78.5602</td>\n",
       "      <td>56.561</td>\n",
       "    </tr>\n",
       "    <tr>\n",
       "      <td>11</td>\n",
       "      <td>O1</td>\n",
       "      <td>EEG O1-REF</td>\n",
       "      <td>-29.4134</td>\n",
       "      <td>-112.4490</td>\n",
       "      <td>8.839</td>\n",
       "    </tr>\n",
       "    <tr>\n",
       "      <td>12</td>\n",
       "      <td>O2</td>\n",
       "      <td>EEG O2-REF</td>\n",
       "      <td>29.8426</td>\n",
       "      <td>-112.1560</td>\n",
       "      <td>8.800</td>\n",
       "    </tr>\n",
       "    <tr>\n",
       "      <td>13</td>\n",
       "      <td>T3</td>\n",
       "      <td>EEG T3-REF</td>\n",
       "      <td>-84.1611</td>\n",
       "      <td>-16.0187</td>\n",
       "      <td>-9.346</td>\n",
       "    </tr>\n",
       "    <tr>\n",
       "      <td>14</td>\n",
       "      <td>T5</td>\n",
       "      <td>EEG T5-REF</td>\n",
       "      <td>-72.4343</td>\n",
       "      <td>-73.4527</td>\n",
       "      <td>-2.487</td>\n",
       "    </tr>\n",
       "    <tr>\n",
       "      <td>15</td>\n",
       "      <td>T4</td>\n",
       "      <td>EEG T4-REF</td>\n",
       "      <td>85.0799</td>\n",
       "      <td>-15.0203</td>\n",
       "      <td>-9.490</td>\n",
       "    </tr>\n",
       "    <tr>\n",
       "      <td>16</td>\n",
       "      <td>T6</td>\n",
       "      <td>EEG T6-REF</td>\n",
       "      <td>73.0557</td>\n",
       "      <td>-73.0683</td>\n",
       "      <td>-2.540</td>\n",
       "    </tr>\n",
       "    <tr>\n",
       "      <td>17</td>\n",
       "      <td>A1</td>\n",
       "      <td>EEG A1-REF</td>\n",
       "      <td>-86.0761</td>\n",
       "      <td>-24.9897</td>\n",
       "      <td>-67.986</td>\n",
       "    </tr>\n",
       "    <tr>\n",
       "      <td>18</td>\n",
       "      <td>A2</td>\n",
       "      <td>EEG A2-REF</td>\n",
       "      <td>85.7939</td>\n",
       "      <td>-25.0093</td>\n",
       "      <td>-68.031</td>\n",
       "    </tr>\n",
       "  </tbody>\n",
       "</table>\n",
       "</div>"
      ],
      "text/plain": [
       "   ch_id      ch_name        X         Y        Z\n",
       "0    FP1  EEG FP1-REF -29.4367   83.9171   -6.990\n",
       "1    FP2  EEG FP2-REF  29.8723   84.8959   -7.080\n",
       "2     F7   EEG F7-REF -70.2629   42.4743  -11.420\n",
       "3     F3   EEG F3-REF -50.2438   53.1112   42.192\n",
       "4     F4   EEG F4-REF  51.8362   54.3048   40.814\n",
       "5     F8   EEG F8-REF  73.0431   44.4217  -12.000\n",
       "6     C3   EEG C3-REF -65.3581  -11.6317   64.358\n",
       "7     CZ   EEG CZ-REF   0.4009   -9.1670  100.244\n",
       "8     C4   EEG C4-REF  67.1179  -10.9003   63.580\n",
       "9     P3   EEG P3-REF -53.0073  -78.7878   55.940\n",
       "10    P4   EEG P4-REF  55.6667  -78.5602   56.561\n",
       "11    O1   EEG O1-REF -29.4134 -112.4490    8.839\n",
       "12    O2   EEG O2-REF  29.8426 -112.1560    8.800\n",
       "13    T3   EEG T3-REF -84.1611  -16.0187   -9.346\n",
       "14    T5   EEG T5-REF -72.4343  -73.4527   -2.487\n",
       "15    T4   EEG T4-REF  85.0799  -15.0203   -9.490\n",
       "16    T6   EEG T6-REF  73.0557  -73.0683   -2.540\n",
       "17    A1   EEG A1-REF -86.0761  -24.9897  -67.986\n",
       "18    A2   EEG A2-REF  85.7939  -25.0093  -68.031"
      ]
     },
     "execution_count": 17,
     "metadata": {},
     "output_type": "execute_result"
    }
   ],
   "source": [
    "df"
   ]
  },
  {
   "cell_type": "code",
   "execution_count": 45,
   "metadata": {},
   "outputs": [],
   "source": [
    "d={'a':1}\n",
    "d.update({'b':13})"
   ]
  },
  {
   "cell_type": "code",
   "execution_count": 56,
   "metadata": {},
   "outputs": [],
   "source": [
    "coord_montage1 = [df[['X', 'Y', 'Z']].values[i] for i in range(len(df))]\n",
    "coord_montage2 = coord_montage1[:]\n",
    "coord_montage3 = coord_montage1[:-2]\n",
    "ch_pos = {name:coord_montage1[i] for i, name in enumerate(list(df['ch_name']))}\n",
    "ch_pos.update({name:np.array([-1,-1,-i]) for i,name in enumerate(raw.ch_names) if name not in ch_pos.keys()})"
   ]
  },
  {
   "cell_type": "code",
   "execution_count": 57,
   "metadata": {},
   "outputs": [
    {
     "name": "stderr",
     "output_type": "stream",
     "text": [
      "<ipython-input-57-92f5b67650f1>:2: RuntimeWarning: Fiducial point nasion not found, assuming identity unknown to head transformation\n",
      "  raw.set_montage(dig_montage)\n"
     ]
    },
    {
     "data": {
      "text/plain": [
       "<RawEDF | 00000077_s003_t000.edf, 36 x 301250 (1205.0 s), ~82.8 MB, data loaded>"
      ]
     },
     "execution_count": 57,
     "metadata": {},
     "output_type": "execute_result"
    }
   ],
   "source": [
    "dig_montage = mne.channels.make_dig_montage(ch_pos=ch_pos)\n",
    "raw.set_montage(dig_montage)"
   ]
  },
  {
   "cell_type": "markdown",
   "metadata": {},
   "source": [
    "# Visualize with MNE functions"
   ]
  },
  {
   "cell_type": "code",
   "execution_count": 63,
   "metadata": {},
   "outputs": [
    {
     "name": "stdout",
     "output_type": "stream",
     "text": [
      "Creating RawArray with float64 data, n_channels=36, n_times=1\n",
      "    Range : 0 ... 0 =      0.000 ...     0.000 secs\n",
      "Ready.\n"
     ]
    },
    {
     "name": "stderr",
     "output_type": "stream",
     "text": [
      "<ipython-input-63-4cb5cd050880>:1: RuntimeWarning: Fiducial point nasion not found, assuming identity unknown to head transformation\n",
      "  dig_montage.plot();\n"
     ]
    },
    {
     "data": {
      "image/png": "[encoded data removed]",
      "text/plain": [
       "<Figure size 432x432 with 1 Axes>"
      ]
     },
     "metadata": {
      "needs_background": "light"
     },
     "output_type": "display_data"
    }
   ],
   "source": [
    "dig_montage.plot();"
   ]
  },
  {
   "cell_type": "code",
   "execution_count": 64,
   "metadata": {},
   "outputs": [
    {
     "data": {
      "image/png": "[encoded data removed]",
      "text/plain": [
       "<Figure size 432x432 with 1 Axes>"
      ]
     },
     "metadata": {
      "needs_background": "light"
     },
     "output_type": "display_data"
    }
   ],
   "source": [
    "raw.plot_sensors(ch_type='eeg');"
   ]
  },
  {
   "cell_type": "code",
   "execution_count": 66,
   "metadata": {},
   "outputs": [
    {
     "data": {
      "image/png": "[encoded data removed]",
      "text/plain": [
       "<Figure size 432x432 with 1 Axes>"
      ]
     },
     "metadata": {
      "needs_background": "light"
     },
     "output_type": "display_data"
    }
   ],
   "source": [
    "raw.plot_sensors(ch_type='eeg', kind='3d');"
   ]
  },
  {
   "cell_type": "markdown",
   "metadata": {},
   "source": [
    "____"
   ]
  },
  {
   "cell_type": "markdown",
   "metadata": {},
   "source": [
    "__________"
   ]
  },
  {
   "cell_type": "raw",
   "metadata": {},
   "source": [
    "-29.4367 83.9171 -6.9900\n",
    "29.8723 84.8959 -7.0800\n",
    "-70.2629 42.4743 -11.4200\n",
    "-50.2438 53.1112 42.1920\n",
    "51.8362 54.3048 40.8140\n",
    "73.0431 44.4217 -12.0000\n",
    "-65.3581 -11.6317 64.3580\n",
    "0.4009 -9.1670 100.2440\n",
    "67.1179 -10.9003 63.5800\n",
    "-53.0073 -78.7878 55.9400\n",
    "-28.6203 -80.5249 75.4360\n",
    "0.3247 -81.1150 82.6150\n",
    "55.6667 -78.5602 56.5610\n",
    "-29.4134 -112.4490 8.8390\n",
    "29.8426 -112.1560 8.8000\n",
    "-84.1611 -16.0187 -9.3460\n",
    "-72.4343 -73.4527 -2.4870\n",
    "85.0799 -15.0203 -9.4900\n",
    "73.0557 -73.0683 -2.5400\n",
    "-86.0761 -24.9897 -67.9860\n",
    " 85.7939 -25.0093 -68.0310"
   ]
  },
  {
   "cell_type": "raw",
   "metadata": {},
   "source": [
    "Fp1\n",
    "Fp2\n",
    "F7\n",
    "F3\n",
    "F4\n",
    "F8\n",
    "C3\n",
    "Cz\n",
    "C4\n",
    "P3\n",
    "P1\n",
    "Pz\n",
    "P4\n",
    "O1\n",
    "O2\n",
    "T3\n",
    "T5\n",
    "T4\n",
    "T6\n",
    "A1\n",
    "A2"
   ]
  }
 ],
 "metadata": {
  "kernelspec": {
   "display_name": "Python 3",
   "language": "python",
   "name": "python3"
  },
  "language_info": {
   "codemirror_mode": {
    "name": "ipython",
    "version": 3
   },
   "file_extension": ".py",
   "mimetype": "text/x-python",
   "name": "python",
   "nbconvert_exporter": "python",
   "pygments_lexer": "ipython3",
   "version": "3.6.9"
  }
 },
 "nbformat": 4,
 "nbformat_minor": 4
}
